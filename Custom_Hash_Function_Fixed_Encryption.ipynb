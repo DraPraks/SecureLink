{
  "cells": [
    {
      "cell_type": "markdown",
      "id": "6238d2f6",
      "metadata": {
        "id": "6238d2f6"
      },
      "source": [
        "\n",
        "# Adra's Custom Hash Function\n",
        "This notebook contains a custom implementation of a SHA-256 hash function. It is designed to generate a unique code for each transaction or data entry. This process ensures data integrity and can be useful for systems like blockchains.\n"
      ]
    },
    {
      "cell_type": "code",
      "execution_count": 8,
      "id": "c50ca484",
      "metadata": {
        "colab": {
          "base_uri": "https://localhost:8080/"
        },
        "id": "c50ca484",
        "outputId": "8e328df4-4ac9-4f33-f42d-b4cf482078a8"
      },
      "outputs": [
        {
          "output_type": "stream",
          "name": "stdout",
          "text": [
            "Transaction Hash for Adra -> Future Game Engine Project: cf1fb7232d530aa0361c5cfaf6083000288b43a7ca82e96a88e2ddd320c3f250\n"
          ]
        }
      ],
      "source": [
        "\n",
        "import hashlib, json, sys\n",
        "\n",
        "# Custom hash function that uniquely identifies a block of information\n",
        "def hashme(msg=''):\n",
        "    \"\"\"\n",
        "    Parameters:\n",
        "    msg (str or dict): The input message/data to be hashed. If the message is\n",
        "                       a dictionary or any non-string object, it's converted\n",
        "                       to a sorted JSON string for consistency.\n",
        "\n",
        "    Returns:\n",
        "    str: A 64-character SHA-256 hash representing the input.\n",
        "    \"\"\"\n",
        "\n",
        "    # If the input message is not a string, convert it to a sorted JSON string.\n",
        "    if type(msg) != str:\n",
        "        msg = json.dumps(msg, sort_keys=True)  # Sort keys to ensure the same output for identical inputs.\n",
        "\n",
        "    # Python 2 and Python 3 compatibility check (you likely use Python 3)\n",
        "    if sys.version_info.major == 2:\n",
        "        return unicode(hashlib.sha256(msg).hexdigest(), 'utf-8')\n",
        "    else:\n",
        "        # Convert the string message to a UTF-8 encoded byte array before hashing\n",
        "        return hashlib.sha256(str(msg).encode('utf-8')).hexdigest()\n",
        "\n",
        "# Example usage of the hash function with a placeholder message\n",
        "transaction_data = {\n",
        "    'sender': 'Adra',  # Personal flair\n",
        "    'receiver': 'Future Game Engine Project',  # Flair for your project interests\n",
        "    'amount': 42,  # Placeholder value for testing, representing '42', a classic geek reference\n",
        "    'timestamp': '2024-09-07T12:34:56'  # A fictional timestamp for this transaction\n",
        "}\n",
        "\n",
        "# Generate a hash for the example transaction data\n",
        "transaction_hash = hashme(transaction_data)\n",
        "\n",
        "# Print the result with personal flair\n",
        "print(f\"Transaction Hash for {transaction_data['sender']} -> {transaction_data['receiver']}: {transaction_hash}\")\n"
      ]
    },
    {
      "cell_type": "markdown",
      "id": "8061ad81",
      "metadata": {
        "id": "8061ad81"
      },
      "source": [
        "\n",
        "## Explanation\n",
        "- **hashme function**: Accepts either a string or a dictionary. If the input is not a string, it will be converted to a sorted JSON string for consistency. Then, it calculates a SHA-256 hash.\n",
        "- **transaction_data**: A sample dictionary containing sender, receiver, amount, and timestamp, customized with personal flair.\n",
        "- **transaction_hash**: The final hash generated using SHA-256 for the example data.\n"
      ]
    },
    {
      "cell_type": "code",
      "execution_count": 9,
      "id": "f796a7f4",
      "metadata": {
        "id": "f796a7f4"
      },
      "outputs": [],
      "source": [
        "\n",
        "# Function to send a message (encrypt it)\n",
        "def send_message(sender, receiver, message):\n",
        "    \"\"\"\n",
        "    Parameters:\n",
        "    sender (str): The sender's name.\n",
        "    receiver (str): The receiver's name.\n",
        "    message (str): The message content.\n",
        "\n",
        "    Returns:\n",
        "    str: A hash representing the communication.\n",
        "    \"\"\"\n",
        "    data = {\n",
        "        'sender': sender,\n",
        "        'receiver': receiver,\n",
        "        'message': message\n",
        "    }\n",
        "    return hashme(data)\n",
        ""
      ]
    },
    {
      "cell_type": "code",
      "execution_count": 10,
      "id": "a9666e8b",
      "metadata": {
        "id": "a9666e8b"
      },
      "outputs": [],
      "source": [
        "\n",
        "# Function to receive and validate a message\n",
        "def receive_message(sender, receiver, message, sent_hash):\n",
        "    \"\"\"\n",
        "    Parameters:\n",
        "    sender (str): The sender's name.\n",
        "    receiver (str): The receiver's name.\n",
        "    message (str): The message content.\n",
        "    sent_hash (str): The original hash from the sender.\n",
        "\n",
        "    Returns:\n",
        "    bool: True if the message is intact, False otherwise.\n",
        "    \"\"\"\n",
        "    data_hash = send_message(sender, receiver, message)\n",
        "    return data_hash == sent_hash\n",
        ""
      ]
    },
    {
      "cell_type": "code",
      "execution_count": 11,
      "id": "5b5b1797",
      "metadata": {
        "colab": {
          "base_uri": "https://localhost:8080/"
        },
        "id": "5b5b1797",
        "outputId": "f49ae0f7-1649-4190-e4bf-ca299a628688"
      },
      "outputs": [
        {
          "output_type": "stream",
          "name": "stdout",
          "text": [
            "Message sent. Hash: 24933dddc86b64542bf7808e6caa85708d12a77801839cc980157aa0a1c1d5c7\n",
            "Message valid: True\n",
            "Tampered message valid: False\n"
          ]
        }
      ],
      "source": [
        "\n",
        "# Example usage: Adra sends a message to Future Game Engine Project\n",
        "sender = 'Adra'\n",
        "receiver = 'Future Game Engine Project'\n",
        "message = 'Let’s build something great.'\n",
        "\n",
        "# Encrypt the message and simulate sending\n",
        "sent_hash = send_message(sender, receiver, message)\n",
        "print(f\"Message sent. Hash: {sent_hash}\")\n",
        "\n",
        "# Simulate receiving and verifying the message\n",
        "is_valid = receive_message(sender, receiver, message, sent_hash)\n",
        "print(f\"Message valid: {is_valid}\")\n",
        "\n",
        "# Modify the message to test the integrity check\n",
        "tampered_message = 'Let’s build something else.'\n",
        "is_valid_tampered = receive_message(sender, receiver, tampered_message, sent_hash)\n",
        "print(f\"Tampered message valid: {is_valid_tampered}\")\n"
      ]
    },
    {
      "cell_type": "code",
      "source": [
        "# Test case to check if a valid message passes the integrity check\n",
        "def test_message_integrity():\n",
        "    sender = 'Adra'\n",
        "    receiver = 'Future Game Engine Project'\n",
        "    message = 'Let’s build something great.'\n",
        "\n",
        "    # Generate the original hash for the message\n",
        "    sent_hash = send_message(sender, receiver, message)\n",
        "\n",
        "    # Expected outcome: Message should be valid (True)\n",
        "    is_valid = receive_message(sender, receiver, message, sent_hash)\n",
        "\n",
        "    assert is_valid == True, \"Test failed: Expected message to be valid, but it was invalid.\"\n",
        "\n",
        "# Test case to check if a tampered message fails the integrity check\n",
        "def test_tampered_message():\n",
        "    sender = 'Adra'\n",
        "    receiver = 'Future Game Engine Project'\n",
        "    original_message = 'Let’s build something great.'\n",
        "    tampered_message = 'Let’s build something else.'\n",
        "\n",
        "    # Generate the original hash for the message\n",
        "    sent_hash = send_message(sender, receiver, original_message)\n",
        "\n",
        "    # Expected outcome: Tampered message should be invalid (False)\n",
        "    is_valid_tampered = receive_message(sender, receiver, tampered_message, sent_hash)\n",
        "\n",
        "    assert is_valid_tampered == False, \"Test failed: Expected tampered message to be invalid, but it was valid.\"\n",
        "\n",
        "\n",
        "# Running the tests\n",
        "test_message_integrity()\n",
        "test_tampered_message()\n",
        "\n",
        "print(\"All tests passed!\")\n"
      ],
      "metadata": {
        "colab": {
          "base_uri": "https://localhost:8080/"
        },
        "id": "TueG70iS0jcF",
        "outputId": "49a88408-1b35-4aa2-bd39-8ab9565475cc"
      },
      "id": "TueG70iS0jcF",
      "execution_count": 13,
      "outputs": [
        {
          "output_type": "stream",
          "name": "stdout",
          "text": [
            "All tests passed!\n"
          ]
        }
      ]
    },
    {
      "cell_type": "code",
      "source": [],
      "metadata": {
        "id": "OVk6y8Dd1Udi"
      },
      "id": "OVk6y8Dd1Udi",
      "execution_count": null,
      "outputs": []
    }
  ],
  "metadata": {
    "colab": {
      "provenance": []
    },
    "kernelspec": {
      "display_name": "Python 3",
      "name": "python3"
    },
    "language_info": {
      "name": "python"
    }
  },
  "nbformat": 4,
  "nbformat_minor": 5
}